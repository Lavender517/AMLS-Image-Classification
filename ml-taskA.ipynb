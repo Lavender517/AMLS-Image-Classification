{
 "cells": [
  {
   "cell_type": "code",
   "execution_count": 1,
   "metadata": {},
   "outputs": [],
   "source": [
    "import os\n",
    "import pandas as pd\n",
    "import numpy as np\n",
    "from PIL import Image\n",
    "from tqdm import tqdm\n",
    "from sklearn.model_selection import train_test_split\n",
    "from sklearn.metrics import classification_report, accuracy_score"
   ]
  },
  {
   "cell_type": "code",
   "execution_count": 2,
   "metadata": {},
   "outputs": [
    {
     "data": {
      "text/html": [
       "<div>\n",
       "<style scoped>\n",
       "    .dataframe tbody tr th:only-of-type {\n",
       "        vertical-align: middle;\n",
       "    }\n",
       "\n",
       "    .dataframe tbody tr th {\n",
       "        vertical-align: top;\n",
       "    }\n",
       "\n",
       "    .dataframe thead th {\n",
       "        text-align: right;\n",
       "    }\n",
       "</style>\n",
       "<table border=\"1\" class=\"dataframe\">\n",
       "  <thead>\n",
       "    <tr style=\"text-align: right;\">\n",
       "      <th></th>\n",
       "      <th>file_name</th>\n",
       "      <th>label</th>\n",
       "    </tr>\n",
       "  </thead>\n",
       "  <tbody>\n",
       "    <tr>\n",
       "      <th>0</th>\n",
       "      <td>IMAGE_0000.jpg</td>\n",
       "      <td>meningioma_tumor</td>\n",
       "    </tr>\n",
       "    <tr>\n",
       "      <th>1</th>\n",
       "      <td>IMAGE_0001.jpg</td>\n",
       "      <td>no_tumor</td>\n",
       "    </tr>\n",
       "    <tr>\n",
       "      <th>2</th>\n",
       "      <td>IMAGE_0002.jpg</td>\n",
       "      <td>meningioma_tumor</td>\n",
       "    </tr>\n",
       "    <tr>\n",
       "      <th>3</th>\n",
       "      <td>IMAGE_0003.jpg</td>\n",
       "      <td>glioma_tumor</td>\n",
       "    </tr>\n",
       "    <tr>\n",
       "      <th>4</th>\n",
       "      <td>IMAGE_0004.jpg</td>\n",
       "      <td>meningioma_tumor</td>\n",
       "    </tr>\n",
       "  </tbody>\n",
       "</table>\n",
       "</div>"
      ],
      "text/plain": [
       "        file_name             label\n",
       "0  IMAGE_0000.jpg  meningioma_tumor\n",
       "1  IMAGE_0001.jpg          no_tumor\n",
       "2  IMAGE_0002.jpg  meningioma_tumor\n",
       "3  IMAGE_0003.jpg      glioma_tumor\n",
       "4  IMAGE_0004.jpg  meningioma_tumor"
      ]
     },
     "execution_count": 2,
     "metadata": {},
     "output_type": "execute_result"
    }
   ],
   "source": [
    "label = pd.read_csv('./dataset/label.csv')\n",
    "label.head()"
   ]
  },
  {
   "cell_type": "code",
   "execution_count": 3,
   "metadata": {},
   "outputs": [
    {
     "name": "stderr",
     "output_type": "stream",
     "text": [
      "100%|██████████| 3000/3000 [00:11<00:00, 266.72it/s]\n"
     ]
    }
   ],
   "source": [
    "ImageData = []\n",
    "for i in tqdm(range(label.shape[0])):  \n",
    "    org_img = Image.open('./dataset/image/' + label['file_name'][i]).convert('L') #Image(512, 512), gray-scale\n",
    "    img = np.array(org_img) # numpy(512, 512)\n",
    "    ImageData.append(img)"
   ]
  },
  {
   "cell_type": "code",
   "execution_count": 4,
   "metadata": {},
   "outputs": [
    {
     "name": "stdout",
     "output_type": "stream",
     "text": [
      "X.shape is (3000, 262144)\n",
      "Y.shape is (3000,)\n"
     ]
    }
   ],
   "source": [
    "X = np.array(ImageData)\n",
    "X = X.reshape((X.shape[0], -1))\n",
    "print(\"X.shape is\", X.shape)\n",
    "Y = np.array(label['label'])\n",
    "Y[Y != 'no_tumor'] = 'tumor' #no_tumor记为0, 有tumor记为tumor\n",
    "print(\"Y.shape is\", Y.shape)"
   ]
  },
  {
   "cell_type": "code",
   "execution_count": 5,
   "metadata": {},
   "outputs": [
    {
     "data": {
      "text/plain": [
       "(2250, 262144)"
      ]
     },
     "execution_count": 5,
     "metadata": {},
     "output_type": "execute_result"
    }
   ],
   "source": [
    "x_train, x_test, y_train, y_test = train_test_split(X, Y, random_state=0)\n",
    "x_train.shape"
   ]
  },
  {
   "cell_type": "code",
   "execution_count": null,
   "metadata": {},
   "outputs": [
    {
     "name": "stderr",
     "output_type": "stream",
     "text": [
      "C:\\ProgramData\\Anaconda3\\envs\\IMLS\\lib\\site-packages\\sklearn\\linear_model\\logistic.py:757: ConvergenceWarning: lbfgs failed to converge. Increase the number of iterations.\n",
      "  \"of iterations.\", ConvergenceWarning)\n"
     ]
    },
    {
     "name": "stdout",
     "output_type": "stream",
     "text": [
      "Accuracy on test set: 0.9133333333333333\n",
      "              precision    recall  f1-score   support\n",
      "\n",
      "    no_tumor       0.82      0.61      0.70       123\n",
      "       tumor       0.93      0.97      0.95       627\n",
      "\n",
      "   micro avg       0.91      0.91      0.91       750\n",
      "   macro avg       0.87      0.79      0.82       750\n",
      "weighted avg       0.91      0.91      0.91       750\n",
      "\n"
     ]
    }
   ],
   "source": [
    "from sklearn.linear_model import LogisticRegression\n",
    "\n",
    "def logRegrPredict(x_train, y_train, xtest):\n",
    "    # Build Logistic Regression Model\n",
    "    logreg = LogisticRegression(solver='lbfgs', max_iter=200)\n",
    "    # Train the model using the training sets\n",
    "    logreg.fit(x_train, y_train)\n",
    "    y_pred = logreg.predict(xtest)\n",
    "    #print('Accuracy on test set: {:.2f}'.format(logreg.score(x_test, y_test)))\n",
    "    return y_pred\n",
    "\n",
    "y_pred_LR = logRegrPredict(x_train, y_train, x_test)\n",
    "print('Accuracy on test set: '+ str(accuracy_score(y_test, y_pred_LR)))\n",
    "print(classification_report(y_test, y_pred_LR)) #text report showing the main classification metrics\n"
   ]
  },
  {
   "cell_type": "code",
   "execution_count": 23,
   "metadata": {},
   "outputs": [
    {
     "name": "stdout",
     "output_type": "stream",
     "text": [
      "Accuracy on test set: 0.9573333333333334\n",
      "              precision    recall  f1-score   support\n",
      "\n",
      "    no_tumor       0.92      0.81      0.86       123\n",
      "       tumor       0.96      0.99      0.97       627\n",
      "\n",
      "   micro avg       0.96      0.96      0.96       750\n",
      "   macro avg       0.94      0.90      0.92       750\n",
      "weighted avg       0.96      0.96      0.96       750\n",
      "\n"
     ]
    }
   ],
   "source": [
    "from sklearn.ensemble import RandomForestClassifier\n",
    "\n",
    "def RandomForestPredict(x_train, y_train, x_test):\n",
    "    # Build Random Forest Model\n",
    "    RandomForest = RandomForestClassifier(n_estimators=150, random_state=0)\n",
    "    # Train the model using the training sets\n",
    "    RandomForest = RandomForest.fit(x_train, y_train)\n",
    "    #print('Accuracy on test set: {:.2f}'.format(logreg.score(x_test, y_test)))\n",
    "    y_pred = RandomForest.predict(x_test)\n",
    "    return y_pred\n",
    "\n",
    "y_pred_RF = RandomForestPredict(x_train, y_train, x_test)\n",
    "print('Accuracy on test set: '+ str(accuracy_score(y_test, y_pred_RF)))\n",
    "print(classification_report(y_test, y_pred_RF)) #text report showing the main classification metrics"
   ]
  },
  {
   "cell_type": "code",
   "execution_count": 9,
   "metadata": {},
   "outputs": [
    {
     "name": "stdout",
     "output_type": "stream",
     "text": [
      "Accuracy on test set: 0.9\n",
      "              precision    recall  f1-score   support\n",
      "\n",
      "    no_tumor       1.00      0.39      0.56       123\n",
      "       tumor       0.89      1.00      0.94       627\n",
      "\n",
      "   micro avg       0.90      0.90      0.90       750\n",
      "   macro avg       0.95      0.70      0.75       750\n",
      "weighted avg       0.91      0.90      0.88       750\n",
      "\n"
     ]
    }
   ],
   "source": [
    "from sklearn import svm\n",
    "from sklearn.svm import SVC\n",
    "\n",
    "def SVMPredict(x_train, y_train, x_test):\n",
    "    SVM_rbf = svm.SVC(C=1.0, kernel='rbf', gamma=0.5)\n",
    "    # Train the model using the training sets\n",
    "    SVM_rbf.fit(x_train, y_train)\n",
    "    y_pred = SVM_rbf.predict(x_test)\n",
    "    #print('Accuracy on test set: {:.2f}'.format(logreg.score(x_test, y_test)))\n",
    "    return y_pred\n",
    "\n",
    "y_pred_SVM = SVMPredict(x_train, y_train, x_test)\n",
    "print('Accuracy on test set: '+ str(accuracy_score(y_test, y_pred_SVM)))\n",
    "print(classification_report(y_test, y_pred_SVM)) #text report showing the main classification metrics"
   ]
  }
 ],
 "metadata": {
  "interpreter": {
   "hash": "861c7791551ba58c0079a3088385b1ef3804130c045fe04635e52c35e1921da6"
  },
  "kernelspec": {
   "display_name": "Python 3.7.0 64-bit ('IMLS': conda)",
   "language": "python",
   "name": "python3"
  },
  "language_info": {
   "codemirror_mode": {
    "name": "ipython",
    "version": 3
   },
   "file_extension": ".py",
   "mimetype": "text/x-python",
   "name": "python",
   "nbconvert_exporter": "python",
   "pygments_lexer": "ipython3",
   "version": "3.7.0"
  },
  "orig_nbformat": 4
 },
 "nbformat": 4,
 "nbformat_minor": 2
}
