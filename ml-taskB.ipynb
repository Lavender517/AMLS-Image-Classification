{
 "cells": [
  {
   "cell_type": "code",
   "execution_count": 2,
   "metadata": {},
   "outputs": [],
   "source": [
    "import os\n",
    "import pandas as pd\n",
    "import numpy as np\n",
    "from PIL import Image\n",
    "from tqdm import tqdm\n",
    "from sklearn.model_selection import train_test_split\n",
    "from sklearn.metrics import classification_report, accuracy_score"
   ]
  },
  {
   "cell_type": "code",
   "execution_count": 3,
   "metadata": {},
   "outputs": [
    {
     "data": {
      "text/html": [
       "<div>\n",
       "<style scoped>\n",
       "    .dataframe tbody tr th:only-of-type {\n",
       "        vertical-align: middle;\n",
       "    }\n",
       "\n",
       "    .dataframe tbody tr th {\n",
       "        vertical-align: top;\n",
       "    }\n",
       "\n",
       "    .dataframe thead th {\n",
       "        text-align: right;\n",
       "    }\n",
       "</style>\n",
       "<table border=\"1\" class=\"dataframe\">\n",
       "  <thead>\n",
       "    <tr style=\"text-align: right;\">\n",
       "      <th></th>\n",
       "      <th>file_name</th>\n",
       "      <th>label</th>\n",
       "    </tr>\n",
       "  </thead>\n",
       "  <tbody>\n",
       "    <tr>\n",
       "      <th>0</th>\n",
       "      <td>IMAGE_0000.jpg</td>\n",
       "      <td>meningioma_tumor</td>\n",
       "    </tr>\n",
       "    <tr>\n",
       "      <th>1</th>\n",
       "      <td>IMAGE_0001.jpg</td>\n",
       "      <td>no_tumor</td>\n",
       "    </tr>\n",
       "    <tr>\n",
       "      <th>2</th>\n",
       "      <td>IMAGE_0002.jpg</td>\n",
       "      <td>meningioma_tumor</td>\n",
       "    </tr>\n",
       "    <tr>\n",
       "      <th>3</th>\n",
       "      <td>IMAGE_0003.jpg</td>\n",
       "      <td>glioma_tumor</td>\n",
       "    </tr>\n",
       "    <tr>\n",
       "      <th>4</th>\n",
       "      <td>IMAGE_0004.jpg</td>\n",
       "      <td>meningioma_tumor</td>\n",
       "    </tr>\n",
       "  </tbody>\n",
       "</table>\n",
       "</div>"
      ],
      "text/plain": [
       "        file_name             label\n",
       "0  IMAGE_0000.jpg  meningioma_tumor\n",
       "1  IMAGE_0001.jpg          no_tumor\n",
       "2  IMAGE_0002.jpg  meningioma_tumor\n",
       "3  IMAGE_0003.jpg      glioma_tumor\n",
       "4  IMAGE_0004.jpg  meningioma_tumor"
      ]
     },
     "execution_count": 3,
     "metadata": {},
     "output_type": "execute_result"
    }
   ],
   "source": [
    "label = pd.read_csv('./dataset/label.csv')\n",
    "label.head()"
   ]
  },
  {
   "cell_type": "code",
   "execution_count": 4,
   "metadata": {},
   "outputs": [
    {
     "name": "stderr",
     "output_type": "stream",
     "text": [
      "100%|██████████| 3000/3000 [00:10<00:00, 285.61it/s]\n"
     ]
    }
   ],
   "source": [
    "ImageData = []\n",
    "for i in tqdm(range(label.shape[0])):  \n",
    "    org_img = Image.open('./dataset/image/' + label['file_name'][i]).convert('L') #Image(512, 512), gray-scale\n",
    "    img = np.array(org_img) # numpy(512, 512)\n",
    "    ImageData.append(img)"
   ]
  },
  {
   "cell_type": "code",
   "execution_count": 5,
   "metadata": {},
   "outputs": [
    {
     "name": "stdout",
     "output_type": "stream",
     "text": [
      "X.shape is (3000, 262144)\n",
      "Y.shape is (3000,)\n"
     ]
    }
   ],
   "source": [
    "X = np.array(ImageData)\n",
    "X = X.reshape((X.shape[0], -1))\n",
    "X = X / 255 #归一化，将X的值从0-255转换为0-1\n",
    "print(\"X.shape is\", X.shape)\n",
    "Y = np.array(label['label'])\n",
    "print(\"Y.shape is\", Y.shape)"
   ]
  },
  {
   "cell_type": "code",
   "execution_count": 6,
   "metadata": {},
   "outputs": [
    {
     "data": {
      "text/plain": [
       "(2250, 262144)"
      ]
     },
     "execution_count": 6,
     "metadata": {},
     "output_type": "execute_result"
    }
   ],
   "source": [
    "x_train, x_test, y_train, y_test = train_test_split(X, Y, random_state=0)\n",
    "x_train.shape"
   ]
  },
  {
   "cell_type": "code",
   "execution_count": 7,
   "metadata": {},
   "outputs": [
    {
     "name": "stdout",
     "output_type": "stream",
     "text": [
      "Accuracy on test set: 0.7853333333333333\n",
      "                  precision    recall  f1-score   support\n",
      "\n",
      "    glioma_tumor       0.72      0.77      0.74       219\n",
      "meningioma_tumor       0.71      0.69      0.70       206\n",
      "        no_tumor       0.86      0.65      0.74       123\n",
      " pituitary_tumor       0.90      0.98      0.94       202\n",
      "\n",
      "        accuracy                           0.79       750\n",
      "       macro avg       0.80      0.77      0.78       750\n",
      "    weighted avg       0.79      0.79      0.78       750\n",
      "\n"
     ]
    }
   ],
   "source": [
    "from sklearn.linear_model import LogisticRegression\n",
    "\n",
    "def logRegrPredict(x_train, y_train, xtest):\n",
    "    # Build Logistic Regression Model\n",
    "    logreg = LogisticRegression(penalty='l2', solver='newton-cg', multi_class='multinomial')\n",
    "    # Train the model using the training sets\n",
    "    logreg.fit(x_train, y_train)\n",
    "    y_pred = logreg.predict(xtest)\n",
    "    #print('Accuracy on test set: {:.2f}'.format(logreg.score(x_test, y_test)))\n",
    "    return y_pred\n",
    "\n",
    "y_pred_LR = logRegrPredict(x_train, y_train, x_test)\n",
    "print('Accuracy on test set: '+ str(accuracy_score(y_test, y_pred_LR)))\n",
    "print(classification_report(y_test, y_pred_LR)) #text report showing the main classification metrics\n"
   ]
  },
  {
   "cell_type": "code",
   "execution_count": 23,
   "metadata": {},
   "outputs": [
    {
     "name": "stdout",
     "output_type": "stream",
     "text": [
      "Accuracy on test set: 0.892\n",
      "                  precision    recall  f1-score   support\n",
      "\n",
      "    glioma_tumor       0.96      0.78      0.86       219\n",
      "meningioma_tumor       0.80      0.92      0.86       206\n",
      "        no_tumor       0.90      0.90      0.90       123\n",
      " pituitary_tumor       0.93      0.98      0.95       202\n",
      "\n",
      "        accuracy                           0.89       750\n",
      "       macro avg       0.90      0.90      0.89       750\n",
      "    weighted avg       0.90      0.89      0.89       750\n",
      "\n"
     ]
    }
   ],
   "source": [
    "from sklearn.ensemble import RandomForestClassifier\n",
    "\n",
    "def RandomForestPredict(x_train, y_train, x_test):\n",
    "    # Build Random Forest Model\n",
    "    RandomForest = RandomForestClassifier(n_estimators=200)\n",
    "    # Train the model using the training sets\n",
    "    RandomForest.fit(x_train, y_train)\n",
    "    y_pred = RandomForest.predict(x_test)\n",
    "    #print('Accuracy on test set: {:.2f}'.format(logreg.score(x_test, y_test)))\n",
    "    return y_pred\n",
    "\n",
    "y_pred_RF = RandomForestPredict(x_train, y_train, x_test)\n",
    "print('Accuracy on test set: '+ str(accuracy_score(y_test, y_pred_RF)))\n",
    "print(classification_report(y_test, y_pred_RF)) #text report showing the main classification metrics"
   ]
  },
  {
   "cell_type": "code",
   "execution_count": 8,
   "metadata": {},
   "outputs": [
    {
     "name": "stdout",
     "output_type": "stream",
     "text": [
      "Accuracy on test set: 0.792\n",
      "                  precision    recall  f1-score   support\n",
      "\n",
      "    glioma_tumor       0.73      0.77      0.75       219\n",
      "meningioma_tumor       0.71      0.70      0.71       206\n",
      "        no_tumor       0.82      0.68      0.75       123\n",
      " pituitary_tumor       0.93      0.97      0.95       202\n",
      "\n",
      "        accuracy                           0.79       750\n",
      "       macro avg       0.80      0.78      0.79       750\n",
      "    weighted avg       0.79      0.79      0.79       750\n",
      "\n"
     ]
    }
   ],
   "source": [
    "from sklearn import svm\n",
    "from sklearn.svm import SVC\n",
    "\n",
    "def SVMPredict(x_train, y_train, x_test):\n",
    "    SVM_rbf = svm.SVC(C=0.5, kernel='linear', gamma=1)\n",
    "    # Train the model using the training sets\n",
    "    SVM_rbf.fit(x_train, y_train)\n",
    "    y_pred = SVM_rbf.predict(x_test)\n",
    "    #print('Accuracy on test set: {:.2f}'.format(logreg.score(x_test, y_test)))\n",
    "    return y_pred\n",
    "\n",
    "y_pred_SVM = SVMPredict(x_train, y_train, x_test)\n",
    "print('Accuracy on test set: '+ str(accuracy_score(y_test, y_pred_SVM)))\n",
    "print(classification_report(y_test, y_pred_SVM)) #text report showing the main classification metrics"
   ]
  },
  {
   "cell_type": "markdown",
   "metadata": {},
   "source": [
    "# To Do List:\n",
    "* 初始数据集绘制散点图：https://www.heywhale.com/mw/project/5ed755db946a0e002cb803f7\n",
    "* （LR)可视化分类结果，链接同上\n",
    "* RandomForest交叉验证结果：https://zhuanlan.zhihu.com/p/62993244\n",
    "* RandomForest里n_estimator学习曲线：http://kylin.ink/uncategorized/1467\n",
    "* 每一个ml方法加上训练过程loss配图"
   ]
  }
 ],
 "metadata": {
  "interpreter": {
   "hash": "861c7791551ba58c0079a3088385b1ef3804130c045fe04635e52c35e1921da6"
  },
  "kernelspec": {
   "display_name": "Python 3.7.0 64-bit ('IMLS': conda)",
   "language": "python",
   "name": "python3"
  },
  "language_info": {
   "codemirror_mode": {
    "name": "ipython",
    "version": 3
   },
   "file_extension": ".py",
   "mimetype": "text/x-python",
   "name": "python",
   "nbconvert_exporter": "python",
   "pygments_lexer": "ipython3",
   "version": "3.9.4"
  },
  "orig_nbformat": 4
 },
 "nbformat": 4,
 "nbformat_minor": 2
}
