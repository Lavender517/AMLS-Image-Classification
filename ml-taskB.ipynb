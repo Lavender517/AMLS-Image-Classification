{
 "cells": [
  {
   "cell_type": "code",
   "execution_count": 1,
   "metadata": {},
   "outputs": [],
   "source": [
    "import os\n",
    "import pandas as pd\n",
    "import numpy as np\n",
    "from PIL import Image\n",
    "from tqdm import tqdm\n",
    "from sklearn import preprocessing\n",
    "from sklearn.metrics import classification_report, accuracy_score"
   ]
  },
  {
   "cell_type": "code",
   "execution_count": 2,
   "metadata": {},
   "outputs": [
    {
     "data": {
      "text/html": [
       "<div>\n",
       "<style scoped>\n",
       "    .dataframe tbody tr th:only-of-type {\n",
       "        vertical-align: middle;\n",
       "    }\n",
       "\n",
       "    .dataframe tbody tr th {\n",
       "        vertical-align: top;\n",
       "    }\n",
       "\n",
       "    .dataframe thead th {\n",
       "        text-align: right;\n",
       "    }\n",
       "</style>\n",
       "<table border=\"1\" class=\"dataframe\">\n",
       "  <thead>\n",
       "    <tr style=\"text-align: right;\">\n",
       "      <th></th>\n",
       "      <th>file_name</th>\n",
       "      <th>label</th>\n",
       "    </tr>\n",
       "  </thead>\n",
       "  <tbody>\n",
       "    <tr>\n",
       "      <th>0</th>\n",
       "      <td>IMAGE_0000.jpg</td>\n",
       "      <td>meningioma_tumor</td>\n",
       "    </tr>\n",
       "    <tr>\n",
       "      <th>1</th>\n",
       "      <td>IMAGE_0001.jpg</td>\n",
       "      <td>no_tumor</td>\n",
       "    </tr>\n",
       "    <tr>\n",
       "      <th>2</th>\n",
       "      <td>IMAGE_0002.jpg</td>\n",
       "      <td>meningioma_tumor</td>\n",
       "    </tr>\n",
       "    <tr>\n",
       "      <th>3</th>\n",
       "      <td>IMAGE_0003.jpg</td>\n",
       "      <td>glioma_tumor</td>\n",
       "    </tr>\n",
       "    <tr>\n",
       "      <th>4</th>\n",
       "      <td>IMAGE_0004.jpg</td>\n",
       "      <td>meningioma_tumor</td>\n",
       "    </tr>\n",
       "  </tbody>\n",
       "</table>\n",
       "</div>"
      ],
      "text/plain": [
       "        file_name             label\n",
       "0  IMAGE_0000.jpg  meningioma_tumor\n",
       "1  IMAGE_0001.jpg          no_tumor\n",
       "2  IMAGE_0002.jpg  meningioma_tumor\n",
       "3  IMAGE_0003.jpg      glioma_tumor\n",
       "4  IMAGE_0004.jpg  meningioma_tumor"
      ]
     },
     "execution_count": 2,
     "metadata": {},
     "output_type": "execute_result"
    }
   ],
   "source": [
    "label = pd.read_csv('./dataset/label.csv')\n",
    "label.head()"
   ]
  },
  {
   "cell_type": "code",
   "execution_count": 3,
   "metadata": {},
   "outputs": [
    {
     "name": "stderr",
     "output_type": "stream",
     "text": [
      "100%|██████████| 3000/3000 [00:25<00:00, 118.36it/s]\n"
     ]
    }
   ],
   "source": [
    "ImageData = []\n",
    "for i in tqdm(range(label.shape[0])):  \n",
    "    org_img = Image.open('./dataset/image/' + label['file_name'][i]).convert('L') #Image(512, 512), gray-scale\n",
    "    img = np.array(org_img) # numpy(512, 512)\n",
    "    ImageData.append(img)"
   ]
  },
  {
   "cell_type": "code",
   "execution_count": 4,
   "metadata": {},
   "outputs": [
    {
     "name": "stdout",
     "output_type": "stream",
     "text": [
      "X.shape is (3000, 262144)\n",
      "Y.shape is (3000,)\n"
     ]
    }
   ],
   "source": [
    "X = np.array(ImageData)\n",
    "X = X.reshape((X.shape[0], -1))\n",
    "print(\"X.shape is\", X.shape)\n",
    "\n",
    "data_classes = ['no_tumor', 'meningioma_tumor', 'glioma_tumor', 'pituitary_tumor']\n",
    "Y = np.array(label['label'].apply(data_classes.index)) # Transform into 4 classes\n",
    "print(\"Y.shape is\", Y.shape)"
   ]
  },
  {
   "cell_type": "code",
   "execution_count": 5,
   "metadata": {},
   "outputs": [],
   "source": [
    "# Do the Normalization\n",
    "min_max_scaler = preprocessing.MinMaxScaler()\n",
    "X_scaler = min_max_scaler.fit_transform(X) # Normalize to [0,1]"
   ]
  },
  {
   "cell_type": "code",
   "execution_count": 6,
   "metadata": {},
   "outputs": [],
   "source": [
    "# Divide the dataset into training set, validation set and test set.\n",
    "\n",
    "train_images = X_scaler[:2400][:]\n",
    "valid_images = X_scaler[2400:2700][:]\n",
    "test_images = X_scaler[2700:][:]\n",
    "\n",
    "train_labels = Y[:2400]\n",
    "valid_labels = Y[2400:2700]\n",
    "test_labels = Y[2700:]"
   ]
  },
  {
   "cell_type": "code",
   "execution_count": 8,
   "metadata": {},
   "outputs": [
    {
     "name": "stdout",
     "output_type": "stream",
     "text": [
      "Accuracy on test set: 0.7933333333333333\n",
      "              precision    recall  f1-score   support\n",
      "\n",
      "           0       0.92      0.69      0.79        48\n",
      "           1       0.69      0.68      0.68        81\n",
      "           2       0.71      0.78      0.74        85\n",
      "           3       0.92      0.98      0.95        86\n",
      "\n",
      "    accuracy                           0.79       300\n",
      "   macro avg       0.81      0.78      0.79       300\n",
      "weighted avg       0.80      0.79      0.79       300\n",
      "\n"
     ]
    }
   ],
   "source": [
    "from sklearn.linear_model import LogisticRegression\n",
    "\n",
    "# Build Logistic Regression Model\n",
    "logreg = LogisticRegression(penalty='l2', solver='newton-cg', multi_class='multinomial')\n",
    "# Train the model using the training sets\n",
    "logreg.fit(train_images, train_labels)\n",
    "y_pred_LR = logreg.predict(test_images)\n",
    "\n",
    "print('Accuracy on test set: '+ str(accuracy_score(test_labels, y_pred_LR)))\n",
    "print(classification_report(test_labels, y_pred_LR)) #text report showing the main classification metrics"
   ]
  },
  {
   "cell_type": "code",
   "execution_count": 7,
   "metadata": {},
   "outputs": [
    {
     "name": "stdout",
     "output_type": "stream",
     "text": [
      "Accuracy on test set: 0.8833333333333333\n",
      "              precision    recall  f1-score   support\n",
      "\n",
      "           0       0.91      0.88      0.89        48\n",
      "           1       0.83      0.88      0.85        81\n",
      "           2       0.93      0.79      0.85        85\n",
      "           3       0.89      0.99      0.93        86\n",
      "\n",
      "    accuracy                           0.88       300\n",
      "   macro avg       0.89      0.88      0.88       300\n",
      "weighted avg       0.89      0.88      0.88       300\n",
      "\n"
     ]
    }
   ],
   "source": [
    "from sklearn.ensemble import RandomForestClassifier\n",
    "\n",
    "# Build Random Forest Model\n",
    "RandomForest = RandomForestClassifier(n_estimators=150)\n",
    "# Train the model using the training sets\n",
    "RandomForest = RandomForest.fit(train_images, train_labels)\n",
    "\n",
    "y_pred_RF = RandomForest.predict(test_images)\n",
    "# y_pred_proba_RF = RandomForest.predict_proba(test_images)\n",
    "print('Accuracy on test set: '+ str(accuracy_score(test_labels, y_pred_RF)))\n",
    "print(classification_report(test_labels, y_pred_RF)) #text report showing the main classification metrics"
   ]
  },
  {
   "cell_type": "code",
   "execution_count": 8,
   "metadata": {},
   "outputs": [],
   "source": [
    "from sklearn.model_selection import cross_val_score\n",
    "from sklearn.tree import DecisionTreeClassifier\n",
    "import matplotlib.pyplot as plt\n",
    "\n",
    "# Compare the performance between decision tree and random forests\n",
    "\n",
    "rfc_l = []\n",
    "clf_l = []\n",
    "\n",
    "for i in range(10):\n",
    "    rfc = RandomForestClassifier(n_estimators=25)\n",
    "    rfc_s = cross_val_score(rfc, X_scaler, Y, cv=10).mean()\n",
    "    rfc_l.append(rfc_s)\n",
    "    clf = DecisionTreeClassifier()\n",
    "    clf_s = cross_val_score(clf, X_scaler, Y, cv=10).mean()\n",
    "    clf_l.append(clf_s)\n",
    "\n",
    "plt.plot(range(1,11),rfc_l,label = \"Random Forest\")\n",
    "plt.plot(range(1,11),clf_l,label = \"Decision Tree\")\n",
    "plt.legend()\n",
    "plt.show()"
   ]
  },
  {
   "cell_type": "code",
   "execution_count": null,
   "metadata": {},
   "outputs": [],
   "source": [
    "# Draw the learning curve of n_estimator\n",
    "\n",
    "superpa = []\n",
    "for i in range(150):\n",
    "    rfc = RandomForestClassifier(n_estimators=i+1,n_jobs=-1)\n",
    "    rfc_s = cross_val_score(rfc, X_scaler, Y, cv=10).mean()\n",
    "    superpa.append(rfc_s)\n",
    "print(max(superpa),superpa.index(max(superpa)))\n",
    "plt.figure(figsize=[20,5])\n",
    "plt.plot(range(1,151),superpa)\n",
    "plt.show()"
   ]
  },
  {
   "cell_type": "code",
   "execution_count": 10,
   "metadata": {},
   "outputs": [],
   "source": [
    "from sklearn import svm\n",
    "from sklearn.svm import SVC\n",
    "\n",
    "SVM_rbf = svm.SVC(C=1.0, kernel='rbf', gamma=0.5, probability=True) # (C=0.5, kernel='linear', gamma=1)\n",
    "# Train the model using the training sets\n",
    "SVM_rbf.fit(train_images, train_labels)\n",
    "\n",
    "y_pred_SVM = SVM_rbf.predict(test_images)\n",
    "y_pred_proba_SVM = SVM_rbf.predict_proba(test_images)\n",
    "\n",
    "print('Accuracy on test set: '+ str(accuracy_score(test_labels, y_pred_SVM)))\n",
    "print(classification_report(test_labels, y_pred_SVM)) #text report showing the main classification metrics"
   ]
  }
 ],
 "metadata": {
  "interpreter": {
   "hash": "861c7791551ba58c0079a3088385b1ef3804130c045fe04635e52c35e1921da6"
  },
  "kernelspec": {
   "display_name": "Python 3.7.0 64-bit ('IMLS': conda)",
   "language": "python",
   "name": "python3"
  },
  "language_info": {
   "codemirror_mode": {
    "name": "ipython",
    "version": 3
   },
   "file_extension": ".py",
   "mimetype": "text/x-python",
   "name": "python",
   "nbconvert_exporter": "python",
   "pygments_lexer": "ipython3",
   "version": "3.9.4"
  },
  "orig_nbformat": 4
 },
 "nbformat": 4,
 "nbformat_minor": 2
}
